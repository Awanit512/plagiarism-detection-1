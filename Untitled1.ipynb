{
 "cells": [
  {
   "cell_type": "code",
   "execution_count": 1,
   "metadata": {},
   "outputs": [],
   "source": [
    "import pandas as pd\n",
    "import boto3\n",
    "import sagemaker"
   ]
  },
  {
   "cell_type": "code",
   "execution_count": 2,
   "metadata": {},
   "outputs": [],
   "source": [
    "# session and role\n",
    "sagemaker_session = sagemaker.Session()\n",
    "role = sagemaker.get_execution_role()\n",
    "\n",
    "# create an S3 bucket\n",
    "bucket = sagemaker_session.default_bucket()"
   ]
  },
  {
   "cell_type": "code",
   "execution_count": 4,
   "metadata": {},
   "outputs": [
    {
     "data": {
      "text/plain": [
       "s3.Object(bucket_name='sagemaker-us-east-2-733184320490', key='test_s3_image.png')"
      ]
     },
     "execution_count": 4,
     "metadata": {},
     "output_type": "execute_result"
    }
   ],
   "source": [
    "import boto3\n",
    "import requests\n",
    "\n",
    "# Uses the creds in ~/.aws/credentials\n",
    "s3 = boto3.resource('s3')\n",
    "#bucket_name_to_upload_image_to = 'photos'\n",
    "s3_image_filename = 'test_s3_image.png'\n",
    "internet_image_url = 'https://docs.python.org/3.7/_static/py.png'\n",
    "\n",
    "\n",
    "# # Do this as a quick and easy check to make sure your S3 access is OK\n",
    "# for bucket in s3.buckets.all():\n",
    "#     if bucket.name == bucket_name_to_upload_image_to:\n",
    "#         print('Good to go. Found the bucket to upload the image into.')\n",
    "#         good_to_go = True\n",
    "\n",
    "# if not good_to_go:\n",
    "#     print('Not seeing your s3 bucket, might want to double check permissions in IAM')\n",
    "\n",
    "# Given an Internet-accessible URL, download the image and upload it to S3,\n",
    "# without needing to persist the image to disk locally\n",
    "req_for_image = requests.get(internet_image_url, stream=True)\n",
    "file_object_from_req = req_for_image.raw\n",
    "req_data = file_object_from_req.read()\n",
    "\n",
    "# Do the actual upload to s3\n",
    "s3.Bucket(bucket).put_object(Key=s3_image_filename, Body=req_data)"
   ]
  },
  {
   "cell_type": "code",
   "execution_count": null,
   "metadata": {},
   "outputs": [],
   "source": [
    "import boto3\n",
    "import requests\n",
    "\n",
    "# Uses the creds in ~/.aws/credentials\n",
    "s3 = boto3.resource('s3')\n",
    "#bucket_name_to_upload_image_to = 'photos'\n",
    "s3_image_filename = 'nudity-dataset.zip'\n",
    "internet_image_url = 'https://archive.org/download/NudeNet_classifier_dataset_v1/NudeNet_Classifier_train_data_x320.zip'\n",
    "\n",
    "\n",
    "# # Do this as a quick and easy check to make sure your S3 access is OK\n",
    "# for bucket in s3.buckets.all():\n",
    "#     if bucket.name == bucket_name_to_upload_image_to:\n",
    "#         print('Good to go. Found the bucket to upload the image into.')\n",
    "#         good_to_go = True\n",
    "\n",
    "# if not good_to_go:\n",
    "#     print('Not seeing your s3 bucket, might want to double check permissions in IAM')\n",
    "\n",
    "# Given an Internet-accessible URL, download the image and upload it to S3,\n",
    "# without needing to persist the image to disk locally\n",
    "req_for_image = requests.get(internet_image_url, stream=True)\n",
    "file_object_from_req = req_for_image.raw\n",
    "req_data = file_object_from_req.read()\n",
    "\n",
    "# Do the actual upload to s3\n",
    "s3.Bucket(bucket).put_object(Key=s3_image_filename, Body=req_data)"
   ]
  },
  {
   "cell_type": "code",
   "execution_count": null,
   "metadata": {},
   "outputs": [],
   "source": []
  }
 ],
 "metadata": {
  "kernelspec": {
   "display_name": "conda_pytorch_p36",
   "language": "python",
   "name": "conda_pytorch_p36"
  },
  "language_info": {
   "codemirror_mode": {
    "name": "ipython",
    "version": 3
   },
   "file_extension": ".py",
   "mimetype": "text/x-python",
   "name": "python",
   "nbconvert_exporter": "python",
   "pygments_lexer": "ipython3",
   "version": "3.6.5"
  }
 },
 "nbformat": 4,
 "nbformat_minor": 2
}
